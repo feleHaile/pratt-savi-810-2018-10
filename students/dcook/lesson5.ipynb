{
 "cells": [
  {
   "cell_type": "code",
   "execution_count": 1,
   "metadata": {},
   "outputs": [],
   "source": [
    "import datetime"
   ]
  },
  {
   "cell_type": "code",
   "execution_count": 2,
   "metadata": {},
   "outputs": [
    {
     "name": "stdout",
     "output_type": "stream",
     "text": [
      "2018\n"
     ]
    }
   ],
   "source": [
    "now = datetime.datetime.now()\n",
    "print(now.year)"
   ]
  },
  {
   "cell_type": "code",
   "execution_count": 8,
   "metadata": {},
   "outputs": [],
   "source": [
    "import urllib.request\n",
    "import json"
   ]
  },
  {
   "cell_type": "code",
   "execution_count": 14,
   "metadata": {},
   "outputs": [],
   "source": [
    "url = \"https://data.cityofnewyork.us/resource/mzhu-ngrd.json\"\n",
    "## community health centers"
   ]
  },
  {
   "cell_type": "code",
   "execution_count": 15,
   "metadata": {},
   "outputs": [
    {
     "data": {
      "text/plain": [
       "'https://data.cityofnewyork.us/resource/mzhu-ngrd.json'"
      ]
     },
     "execution_count": 15,
     "metadata": {},
     "output_type": "execute_result"
    }
   ],
   "source": [
    "url"
   ]
  },
  {
   "cell_type": "code",
   "execution_count": 16,
   "metadata": {},
   "outputs": [],
   "source": [
    "with urllib.request.urlopen(url) as open_url:\n",
    "    data = json.loads(open_url.read().decode())\n",
    "    "
   ]
  },
  {
   "cell_type": "code",
   "execution_count": 18,
   "metadata": {},
   "outputs": [
    {
     "data": {
      "text/plain": [
       "{'__name_of_borough': 'Bronx',\n",
       " 'bbl': '2026120007',\n",
       " 'bin': '2004246',\n",
       " 'borough': 'Bronx',\n",
       " 'census_tract': '149',\n",
       " 'center_address': '1276 Fulton Avenue, Suite 401-402',\n",
       " 'community_board': '3',\n",
       " 'community_council': '16',\n",
       " 'latitude': '40.831721',\n",
       " 'longitude': '-73.903756',\n",
       " 'name_of_center': 'Bronx-Lebanon Hospital Center',\n",
       " 'nta': 'Morrisania-Melrose                                                         ',\n",
       " 'telephone_number': '(718) 466-6072',\n",
       " 'zip': '10456'}"
      ]
     },
     "execution_count": 18,
     "metadata": {},
     "output_type": "execute_result"
    }
   ],
   "source": [
    "data[0]"
   ]
  },
  {
   "cell_type": "code",
   "execution_count": 20,
   "metadata": {
    "scrolled": true
   },
   "outputs": [
    {
     "data": {
      "text/plain": [
       "'Morrisania-Melrose                                                         '"
      ]
     },
     "execution_count": 20,
     "metadata": {},
     "output_type": "execute_result"
    }
   ],
   "source": [
    "data[0]['nta']\n",
    "## the data is a dictionary"
   ]
  },
  {
   "cell_type": "code",
   "execution_count": 24,
   "metadata": {},
   "outputs": [
    {
     "name": "stdout",
     "output_type": "stream",
     "text": [
      "Bronx-Lebanon Hospital Center\n",
      "Comprehensive Family Care Center\n",
      "Dr. Martin Luther King Jr. Health Center\n",
      "Montefiore Family Health Center\n",
      "Montefiore Medical Group Comprehensive HCC\n",
      "Morris Heights Health Center\n",
      "Soundview Health Center\n",
      "Urban Health Plan\n",
      "Bedford/Stuyvesant Family Health Center\n",
      "Brooklyn Plaza Medical Center\n",
      "Brownsville Multi-Service Family Health Center\n",
      "Community Health Care Network - CABS Health Center\n",
      "Community Health Care Network \n",
      "Community Health Care Network \n",
      "Ezra Medical Center\n",
      "ODA Primary Care Health Center\n",
      "Sunset Park Family Health Center\n",
      "Sunset Park Family Health Center\n",
      "Sunset Park Family Health Center Brooklyn-Chinese Family Health Center\n",
      "Sunset Park Family Health Center Caribbean-American Family Health Center\n",
      "Sunset Park Family Health Center Family Physician Family Health Center\n",
      "Sunset Park Family Health Center Park Ridge Family Health Center\n",
      "Sunset Park Family Health Center\n",
      "Sunset Park Family Health Center\n",
      "Sunset Park Family Health Center\n",
      "Betances Health Center\n",
      "Boriken Neighborhood Health Center\n",
      "Callen-Lorde Community Health Center\n",
      "Charles B. Wang Community Health Center\n",
      "Community Health Care Network\n",
      "Heritage Health Care\n",
      "Institute for Urban Family Health\n",
      "Ryan/Chelsea-Clinton Community Health Center\n",
      "Settlement Health & Medical Services\n",
      "William F. Ryan Community Health Center\n",
      "Charles B. Wang Community Health Center\n",
      "Community Health Care Network\n",
      "The Floating Hospital\n",
      "Joseph P. Addabbo Family Health Center\n",
      "Project Samaritan Health Services /\n",
      "Staten Island \n"
     ]
    }
   ],
   "source": [
    "for item in data:\n",
    "    print(item['name_of_center'])"
   ]
  },
  {
   "cell_type": "code",
   "execution_count": 28,
   "metadata": {},
   "outputs": [
    {
     "name": "stdout",
     "output_type": "stream",
     "text": [
      "Bronx-Lebanon Hospital Center\n",
      "BRONX-LEBANON HOSPITAL CENTER\n",
      "BRONX-LEBANON HOSPITAL CENTER\n"
     ]
    },
    {
     "data": {
      "text/plain": [
       "'BRONX-LEBANON HOSPITAL CENTER'"
      ]
     },
     "execution_count": 28,
     "metadata": {},
     "output_type": "execute_result"
    }
   ],
   "source": [
    "x = data[0]['name_of_center']\n",
    "x.upper()\n",
    "print(x)\n",
    "print(x.upper())\n",
    "x = x.upper()\n",
    "print(x)\n",
    "x"
   ]
  },
  {
   "cell_type": "code",
   "execution_count": 30,
   "metadata": {},
   "outputs": [],
   "source": [
    "my_dictionary = {\n",
    "    'k1':'v1',\n",
    "    'k2':'v2',\n",
    "    'k3':'v3',\n",
    "}"
   ]
  },
  {
   "cell_type": "code",
   "execution_count": 32,
   "metadata": {},
   "outputs": [
    {
     "data": {
      "text/plain": [
       "'v2'"
      ]
     },
     "execution_count": 32,
     "metadata": {},
     "output_type": "execute_result"
    }
   ],
   "source": [
    "my_dictionary['k2']"
   ]
  },
  {
   "cell_type": "code",
   "execution_count": 36,
   "metadata": {},
   "outputs": [],
   "source": [
    "## dicts are {}, lists are [], tuples are []\n",
    "d = {}\n",
    "\n",
    "for i in data: ## a list of dictionaries\n",
    "    ## print(i['borough'])\n",
    "    ##d[i['borough']] = 'grabbed available boroughs as keys'\n",
    "    if i['borough'] not in d:\n",
    "        d[i['borough']] = 1\n",
    "    elif i['borough'] in d: ## otherwise else without statement\n",
    "        d[i['borough']] = d[i['borough']] + 1\n",
    "##d"
   ]
  },
  {
   "cell_type": "code",
   "execution_count": 37,
   "metadata": {},
   "outputs": [
    {
     "data": {
      "text/plain": [
       "{'Bronx': 8, 'Brooklyn': 17, 'Manhattan': 10, 'Queens': 5, 'Staten Island': 1}"
      ]
     },
     "execution_count": 37,
     "metadata": {},
     "output_type": "execute_result"
    }
   ],
   "source": [
    "d"
   ]
  },
  {
   "cell_type": "code",
   "execution_count": 39,
   "metadata": {},
   "outputs": [
    {
     "data": {
      "image/png": "[encoded data removed]",
      "text/plain": [
       "<Figure size 432x288 with 1 Axes>"
      ]
     },
     "metadata": {},
     "output_type": "display_data"
    }
   ],
   "source": [
    "import matplotlib.pyplot as plt\n",
    "plt.bar(range(len(d)), list(d.values()), align='center')\n",
    "plt.xticks(range(len(d)), list(d.keys()))\n",
    "plt.show()"
   ]
  }
 ],
 "metadata": {
  "kernelspec": {
   "display_name": "Python 3",
   "language": "python",
   "name": "python3"
  },
  "language_info": {
   "codemirror_mode": {
    "name": "ipython",
    "version": 3
   },
   "file_extension": ".py",
   "mimetype": "text/x-python",
   "name": "python",
   "nbconvert_exporter": "python",
   "pygments_lexer": "ipython3",
   "version": "3.6.5"
  }
 },
 "nbformat": 4,
 "nbformat_minor": 2
}
