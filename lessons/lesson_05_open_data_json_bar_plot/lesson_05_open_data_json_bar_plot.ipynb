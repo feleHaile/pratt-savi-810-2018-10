{
 "cells": [
  {
   "cell_type": "code",
   "execution_count": 1,
   "metadata": {},
   "outputs": [
    {
     "name": "stdout",
     "output_type": "stream",
     "text": [
      "[{'__name_of_borough': 'Bronx', 'bbl': '2026120007', 'bin': '2004246', 'borough': 'Bronx', 'census_tract': '149', 'center_address': '1276 Fulton Avenue, Suite 401-402', 'community_board': '3', 'community_council': '16', 'latitude': '40.831721', 'longitude': '-73.903756', 'name_of_center': 'Bronx-Lebanon Hospital Center', 'nta': 'Morrisania-Melrose                                                         ', 'telephone_number': '(718) 466-6072', 'zip': '10456'}, {'__name_of_borough': 'Bronx', 'bbl': '2026120007', 'bin': '2004246', 'borough': 'Bronx', 'census_tract': '149', 'center_address': '1265 Franklin Avenue', 'community_board': '3', 'community_council': '16', 'latitude': '40.831025', 'longitude': '-73.902698', 'name_of_center': 'Comprehensive Family Care Center', 'nta': 'Morrisania-Melrose                                                         ', 'telephone_number': '(718) 579-2500 ', 'zip': '10456'}, {'__name_of_borough': 'Bronx', 'borough': 'Bronx', 'center_address': '(Montefiore) 1621 Eastchester Road', 'name_of_center': 'Dr. Martin Luther King Jr. Health Center', 'telephone_number': '(718) 503-7714 ', 'zip': '10461'}, {'__name_of_borough': 'Bronx', 'bbl': '2032750040', 'bin': '2016318', 'borough': 'Bronx', 'census_tract': '39901', 'center_address': '360 East 193rd Street', 'community_board': '7', 'community_council': '15', 'latitude': '40.863191', 'longitude': '-73.891056', 'name_of_center': 'Montefiore Family Health Center', 'nta': 'Bedford Park-Fordham North                                                 ', 'telephone_number': ' (718) 933-2400', 'zip': '10458'}, {'__name_of_borough': 'Bronx', 'bbl': '2024210045', 'bin': '2115808', 'borough': 'Bronx', 'census_tract': '173', 'center_address': '305 East 161st Street', 'community_board': '4', 'community_council': '17', 'latitude': '40.825265', 'longitude': '-73.917445', 'name_of_center': 'Montefiore Medical Group Comprehensive HCC', 'nta': 'East Concourse-Concourse Village                                           ', 'telephone_number': '(718) 579-2597 ', 'zip': '10451'}, {'__name_of_borough': 'Bronx', 'borough': 'Bronx', 'center_address': 'Morris Heights Health Center', 'name_of_center': 'Morris Heights Health Center', 'telephone_number': '(718) 716-4400 ', 'zip': '10453'}, {'__name_of_borough': 'Bronx', 'bbl': '2036000004', 'bin': '2092716', 'borough': 'Bronx', 'census_tract': '16', 'center_address': '731 White Plains Road', 'community_board': '9', 'community_council': '18', 'latitude': '40.821254', 'longitude': '-73.858098', 'name_of_center': 'Soundview Health Center', 'nta': 'Soundview-Castle Hill-Clason Point-Harding Park                            ', 'telephone_number': '(718) 589-2232 ', 'zip': '10473'}, {'__name_of_borough': 'Bronx', 'bbl': '2027270058', 'bin': '2114609', 'borough': 'Bronx', 'census_tract': '12701', 'center_address': '1065 Southern Boulevard', 'community_board': '2', 'community_council': '17', 'latitude': '40.825276', 'longitude': '-73.891935', 'name_of_center': 'Urban Health Plan', 'nta': 'Hunts Point                                                                ', 'telephone_number': ' (718) 991-4833', 'zip': '10459'}, {'__name_of_borough': 'Brooklyn', 'bbl': '3018540052', 'bin': '3053469', 'borough': 'Brooklyn', 'census_tract': '269', 'center_address': '1413 Fulton Street', 'community_board': '3', 'community_council': '36', 'latitude': '40.680141', 'longitude': '-73.94478', 'name_of_center': 'Bedford/Stuyvesant Family Health Center', 'nta': 'Bedford                                                                    ', 'telephone_number': '(718) 636-4500', 'zip': '11216'}, {'__name_of_borough': 'Brooklyn', 'bbl': '3021130022', 'bin': '3059247', 'borough': 'Brooklyn', 'census_tract': '35', 'center_address': '650 Fulton Street', 'community_board': '2', 'community_council': '35', 'latitude': '40.686819', 'longitude': '-73.975701', 'name_of_center': 'Brooklyn Plaza Medical Center', 'nta': 'Fort Greene                                                                ', 'telephone_number': '(718) 596-9896', 'zip': '11217'}, {'__name_of_borough': 'Brooklyn', 'bbl': '3035600026', 'bin': '3081790', 'borough': 'Brooklyn', 'census_tract': '924', 'center_address': '592 Rockaway Avenue', 'community_board': '16', 'community_council': '41', 'latitude': '40.66552', 'longitude': '-73.90968', 'name_of_center': 'Brownsville Multi-Service Family Health Center', 'nta': 'Brownsville                                                                ', 'telephone_number': '(718) 345-5000 ', 'zip': '11212'}, {'__name_of_borough': 'Brooklyn', 'bbl': '3030790006', 'bin': '3071335', 'borough': 'Brooklyn', 'census_tract': '505', 'center_address': '94-98 Manhattan Ave.', 'community_board': '1', 'community_council': '34', 'latitude': '40.70552', 'longitude': '-73.94464', 'name_of_center': 'Community Health Care Network - CABS Health Center', 'nta': 'East Williamsburg                                                          ', 'telephone_number': '(718) 388-0390', 'zip': '11206'}, {'__name_of_borough': 'Brooklyn', 'borough': 'Brooklyn', 'center_address': 'Caribbean House Health Center', 'name_of_center': 'Community Health Care Network ', 'telephone_number': '(718) 778-0198 ', 'zip': '11225'}, {'__name_of_borough': 'Brooklyn', 'borough': 'Brooklyn', 'center_address': 'Dr. Betty Shabazz Health Center', 'name_of_center': 'Community Health Care Network ', 'telephone_number': '(718) 277-8303 ', 'zip': '11208'}, {'__name_of_borough': 'Brooklyn', 'bbl': '3053700089', 'bin': '3126000', 'borough': 'Brooklyn', 'census_tract': '486', 'center_address': '571 McDonald Avenue', 'community_board': '12', 'community_council': '39', 'latitude': '40.639923', 'longitude': '-73.978983', 'name_of_center': 'Ezra Medical Center', 'nta': 'Kensington-Ocean Parkway                                                   ', 'telephone_number': '(718) 686-7600 ', 'zip': '11213'}, {'__name_of_borough': 'Brooklyn', 'bbl': '3022300004', 'bin': '3061077', 'borough': 'Brooklyn', 'census_tract': '537', 'center_address': '14-16 Heyward Street', 'community_board': '1', 'community_council': '33', 'latitude': '40.699929', 'longitude': '-73.958822', 'name_of_center': 'ODA Primary Care Health Center', 'nta': 'Williamsburg                                                               ', 'telephone_number': '(718) 260-4600 ', 'zip': '11211'}, {'__name_of_borough': 'Brooklyn', 'bbl': '3008280001', 'bin': '3014856', 'borough': 'Brooklyn', 'census_tract': '22', 'center_address': '150 55th Street', 'community_board': '7', 'community_council': '38', 'latitude': '40.646941', 'longitude': '-74.02093', 'name_of_center': 'Sunset Park Family Health Center', 'nta': 'Sunset Park West                                                           ', 'telephone_number': '(718) 630-7095 ', 'zip': '11220'}, {'__name_of_borough': 'Brooklyn', 'bbl': '3061260007', 'bin': '3155833', 'borough': 'Brooklyn', 'census_tract': '5601', 'center_address': '9711 Third Avenue', 'community_board': '10', 'community_council': '43', 'latitude': '40.615612', 'longitude': '-74.034258', 'name_of_center': 'Sunset Park Family Health Center', 'nta': 'Bay Ridge                                                                  ', 'telephone_number': '(718) 759-9126 ', 'zip': '11209'}, {'__name_of_borough': 'Brooklyn', 'bbl': '3056720011', 'bin': '3139119', 'borough': 'Brooklyn', 'census_tract': '106', 'center_address': '812 54th Street', 'community_board': '12', 'community_council': '38', 'latitude': '40.638557', 'longitude': '-74.005531', 'name_of_center': 'Sunset Park Family Health Center Brooklyn-Chinese Family Health Center', 'nta': 'Sunset Park East                                                           ', 'telephone_number': '(718) 686-2680 ', 'zip': '11220'}, {'__name_of_borough': 'Brooklyn', 'borough': 'Brooklyn', 'center_address': '3414 Church Avenue', 'name_of_center': 'Sunset Park Family Health Center Caribbean-American Family Health Center', 'telephone_number': '(718) 940-9425 ', 'zip': '12203'}, {'__name_of_borough': 'Brooklyn', 'bbl': '3008400043', 'bin': '3015404', 'borough': 'Brooklyn', 'census_tract': '102', 'center_address': '5616 6th Avenue', 'community_board': '7', 'community_council': '38', 'latitude': '40.640272', 'longitude': '-74.011772', 'name_of_center': 'Sunset Park Family Health Center Family Physician Family Health Center', 'nta': 'Sunset Park East                                                           ', 'telephone_number': '(718) 439-5440 ', 'zip': '11220'}, {'__name_of_borough': 'Brooklyn', 'bbl': '3058090003', 'bin': '3144058', 'borough': 'Brooklyn', 'census_tract': '122', 'center_address': '6317 4th Avenue', 'community_board': '7', 'community_council': '38', 'latitude': '40.638987', 'longitude': '-74.02034', 'name_of_center': 'Sunset Park Family Health Center Park Ridge Family Health Center', 'nta': 'Sunset Park West                                                           ', 'telephone_number': '(718) 907-8100 ', 'zip': '11220'}, {'__name_of_borough': 'Brooklyn', 'bbl': '3010340068', 'bin': '3339179', 'borough': 'Brooklyn', 'census_tract': '141', 'center_address': '220 13th Street', 'community_board': '6', 'community_council': '39', 'latitude': '40.667602', 'longitude': '-73.990051', 'name_of_center': 'Sunset Park Family Health Center', 'nta': 'Park Slope-Gowanus                                                         ', 'telephone_number': '(718) 832-5980 ', 'zip': '11215'}, {'__name_of_borough': 'Brooklyn', 'bbl': '3060780010', 'bin': '3322532', 'borough': 'Brooklyn', 'census_tract': '5201', 'center_address': '9000 Shore Road', 'community_board': '10', 'community_council': '43', 'latitude': '40.622093', 'longitude': '-74.040244', 'name_of_center': 'Sunset Park Family Health Center', 'nta': 'Bay Ridge                                                                  ', 'telephone_number': '(718) 630-8878 ', 'zip': '11209'}, {'__name_of_borough': 'Brooklyn', 'bbl': '3007840010', 'bin': '3012967', 'borough': 'Brooklyn', 'census_tract': '98', 'center_address': '514 49th Street', 'community_board': '7', 'community_council': '38', 'latitude': '40.645329', 'longitude': '-74.009193', 'name_of_center': 'Sunset Park Family Health Center', 'nta': 'Sunset Park East                                                           ', 'telephone_number': '(718) 854-1851 ', 'zip': '11220'}, {'__name_of_borough': 'Manhattan', 'bbl': '1002670010', 'bin': '1003220', 'borough': 'Manhattan', 'census_tract': '202', 'center_address': '280 Henry Street', 'community_board': '3', 'community_council': '2', 'latitude': '40.71395', 'longitude': '-73.983537', 'name_of_center': 'Betances Health Center', 'nta': 'Lower East Side                                                            ', 'telephone_number': '(212) 227-8408 ', 'zip': '10002'}, {'__name_of_borough': 'Manhattan', 'bbl': '1017870001', 'bin': '1054626', 'borough': 'Manhattan', 'census_tract': '194', 'center_address': '2253 Third Avenue', 'community_board': '11', 'community_council': '8', 'latitude': '40.802079', 'longitude': '-73.936989', 'name_of_center': 'Boriken Neighborhood Health Center', 'nta': 'East Harlem North                                                          ', 'telephone_number': '(212) 289-6650 ', 'zip': '10035'}, {'__name_of_borough': 'Manhattan', 'bbl': '1007410063', 'bin': '1013088', 'borough': 'Manhattan', 'census_tract': '83', 'center_address': '356 West 18th Street', 'community_board': '4', 'community_council': '3', 'latitude': '40.742905', 'longitude': '-74.00227', 'name_of_center': 'Callen-Lorde Community Health Center', 'nta': 'Hudson Yards-Chelsea-Flatiron-Union Square                                 ', 'telephone_number': '(212) 271-7200 ', 'zip': '10011'}, {'__name_of_borough': 'Manhattan', 'bbl': '1001960013', 'bin': '1002344', 'borough': 'Manhattan', 'census_tract': '31', 'center_address': '268 Canal Street', 'community_board': '1', 'community_council': '1', 'latitude': '40.718834', 'longitude': '-74.001111', 'name_of_center': 'Charles B. Wang Community Health Center', 'nta': 'SoHo-TriBeCa-Civic Center-Little Italy                                     ', 'telephone_number': '(212) 379-6988 ', 'zip': '10013'}, {'__name_of_borough': 'Manhattan', 'bbl': '1008580022', 'bin': '1016900', 'borough': 'Manhattan', 'census_tract': '74', 'center_address': '79 Madison Avenue', 'community_board': '5', 'community_council': '2', 'latitude': '40.744096', 'longitude': '-73.985619', 'name_of_center': 'Community Health Care Network', 'nta': 'Midtown-Midtown South                                                      ', 'telephone_number': '(212) 366-4500 ', 'zip': '10016'}, {'__name_of_borough': 'Manhattan', 'bbl': '1020600001', 'bin': '1061339', 'borough': 'Manhattan', 'census_tract': '231', 'center_address': '1727 Amsterdam Avenue', 'community_board': '9', 'community_council': '7', 'latitude': '40.825507', 'longitude': '-73.947395', 'name_of_center': 'Heritage Health Care', 'nta': 'Hamilton Heights                                                           ', 'telephone_number': '(212) 862-0054 ', 'zip': '10031'}, {'__name_of_borough': 'Manhattan', 'bbl': '1008430039', 'bin': '1016077', 'borough': 'Manhattan', 'census_tract': '52', 'center_address': '16 East 16th Street', 'community_board': '5', 'community_council': '2', 'latitude': '40.737122', 'longitude': '-73.99218', 'name_of_center': 'Institute for Urban Family Health', 'nta': 'Hudson Yards-Chelsea-Flatiron-Union Square                                 ', 'telephone_number': '(212) 633-0800 ', 'zip': '10003'}, {'__name_of_borough': 'Manhattan', 'bbl': '1010747502', 'bin': '1085777', 'borough': 'Manhattan', 'census_tract': '129', 'center_address': '645 Tenth Avenue', 'community_board': '4', 'community_council': '3', 'latitude': '40.761929', 'longitude': '-73.993809', 'name_of_center': 'Ryan/Chelsea-Clinton Community Health Center', 'nta': 'Clinton                                                                    ', 'telephone_number': '(212) 265-4500 ', 'zip': '10036'}, {'__name_of_borough': 'Manhattan', 'bbl': '1016550007', 'bin': '1087874', 'borough': 'Manhattan', 'census_tract': '170', 'center_address': '212 East 106th Street', 'community_board': '11', 'community_council': '8', 'latitude': '40.791342', 'longitude': '-73.944161', 'name_of_center': 'Settlement Health & Medical Services', 'nta': 'East Harlem South                                                          ', 'telephone_number': '(212) 360-2661', 'zip': '10029'}, {'__name_of_borough': 'Manhattan', 'bbl': '1018517501', 'bin': '1079308', 'borough': 'Manhattan', 'census_tract': '181', 'center_address': '110 West 97th Street', 'community_board': '7', 'community_council': '7', 'latitude': '40.79381', 'longitude': '-73.967655', 'name_of_center': 'William F. Ryan Community Health Center', 'nta': 'Upper West Side                                                            ', 'telephone_number': '(212) 316-7906 ', 'zip': '10025'}, {'__name_of_borough': 'Queens', 'borough': 'Queens', 'center_address': '136-26 37th Ave - 2nd Fl', 'name_of_center': 'Charles B. Wang Community Health Center', 'telephone_number': '(718) 886-1200 ', 'zip': '11345'}, {'__name_of_borough': 'Queens', 'bbl': '4100300006', 'bin': '4214585', 'borough': 'Queens', 'census_tract': '208', 'center_address': '97-04 Sutphin Blvd', 'community_board': '12', 'community_council': '28', 'latitude': '40.697162', 'longitude': '-73.805689', 'name_of_center': 'Community Health Care Network', 'nta': 'Jamaica                                                                    ', 'telephone_number': '(718) 657-7088', 'zip': '11435'}, {'__name_of_borough': 'Queens', 'bbl': '4004150004', 'bin': '4005006', 'borough': 'Queens', 'census_tract': '33', 'center_address': '41-40 27th Street', 'community_board': '1', 'community_council': '26', 'latitude': '40.751296', 'longitude': '-73.938824', 'name_of_center': 'The Floating Hospital', 'nta': 'Queensbridge-Ravenswood-Long Island City                                   ', 'telephone_number': '(718) 784-2240', 'zip': '11101'}, {'__name_of_borough': 'Queens', 'bbl': '4160150001', 'bin': '4302404', 'borough': 'Queens', 'census_tract': '964', 'center_address': '6200 Beach Channel Drive', 'community_board': '14', 'community_council': '31', 'latitude': '40.593126', 'longitude': '-73.7916', 'name_of_center': 'Joseph P. Addabbo Family Health Center', 'nta': 'Hammels-Arverne-Edgemere                                                   ', 'telephone_number': '(718) 634-2155 ', 'zip': '11692'}, {'__name_of_borough': 'Queens', 'bbl': '4099700019', 'bin': '4213644', 'borough': 'Queens', 'census_tract': '212', 'center_address': '137-50 Jamaica Avenue', 'community_board': '12', 'community_council': '24', 'latitude': '40.702483', 'longitude': '-73.815227', 'name_of_center': 'Project Samaritan Health Services /', 'nta': 'Jamaica                                                                    ', 'telephone_number': '(718) 298-5100 ', 'zip': '11435'}, {'__name_of_borough': 'Staten Island', 'bbl': '5010350001', 'bin': '5024241', 'borough': 'Staten Island', 'census_tract': '207', 'center_address': '235 Port Richmond Avenue', 'community_board': '1', 'community_council': '49', 'latitude': '40.635621', 'longitude': '-74.135021', 'name_of_center': 'Staten Island ', 'nta': 'Port Richmond                                                              ', 'telephone_number': '(718) 876-1732', 'zip': '10302'}]\n"
     ]
    }
   ],
   "source": [
    "https://data.cityofnewyork.us/resource/mzhu-ngrd.json\n",
    "\n",
    "# python 2\n",
    "import urllib, json\n",
    "url = \"https://data.cityofnewyork.us/resource/mzhu-ngrd.json\"\n",
    "response = urllib.urlopen(url)\n",
    "data = json.loads(response.read())\n",
    "print data\n",
    "\n",
    "\n",
    "\n",
    "import urllib.request, json \n",
    "with urllib.request.urlopen(\"https://data.cityofnewyork.us/resource/mzhu-ngrd.json\") as url:\n",
    "    data = json.loads(url.read().decode())\n",
    "    print(data)"
   ]
  },
  {
   "cell_type": "code",
   "execution_count": 2,
   "metadata": {},
   "outputs": [
    {
     "data": {
      "text/plain": [
       "{'__name_of_borough': 'Bronx',\n",
       " 'bbl': '2026120007',\n",
       " 'bin': '2004246',\n",
       " 'borough': 'Bronx',\n",
       " 'census_tract': '149',\n",
       " 'center_address': '1276 Fulton Avenue, Suite 401-402',\n",
       " 'community_board': '3',\n",
       " 'community_council': '16',\n",
       " 'latitude': '40.831721',\n",
       " 'longitude': '-73.903756',\n",
       " 'name_of_center': 'Bronx-Lebanon Hospital Center',\n",
       " 'nta': 'Morrisania-Melrose                                                         ',\n",
       " 'telephone_number': '(718) 466-6072',\n",
       " 'zip': '10456'}"
      ]
     },
     "execution_count": 2,
     "metadata": {},
     "output_type": "execute_result"
    }
   ],
   "source": [
    "data[0]"
   ]
  },
  {
   "cell_type": "code",
   "execution_count": 16,
   "metadata": {},
   "outputs": [],
   "source": [
    "D = {}\n",
    "\n",
    "for i in data:\n",
    "    # print(i['borough'])\n",
    "    if i['borough'] not in D:\n",
    "        D[i['borough']] = 1\n",
    "    \n",
    "    elif i['borough'] in D:\n",
    "        D[i['borough']] = D[i['borough']] + 1\n",
    " \n",
    "    "
   ]
  },
  {
   "cell_type": "code",
   "execution_count": 17,
   "metadata": {},
   "outputs": [
    {
     "data": {
      "text/plain": [
       "{'Bronx': 8, 'Brooklyn': 17, 'Manhattan': 10, 'Queens': 5, 'Staten Island': 1}"
      ]
     },
     "execution_count": 17,
     "metadata": {},
     "output_type": "execute_result"
    }
   ],
   "source": [
    "D"
   ]
  },
  {
   "cell_type": "code",
   "execution_count": 18,
   "metadata": {},
   "outputs": [
    {
     "data": {
      "image/png": "[encoded data removed]",
      "text/plain": [
       "<Figure size 432x288 with 1 Axes>"
      ]
     },
     "metadata": {},
     "output_type": "display_data"
    }
   ],
   "source": [
    "import matplotlib.pyplot as plt\n",
    "\n",
    "# D = {u'Label1':26, u'Label2': 17, u'Label3':30}\n",
    "\n",
    "plt.bar(range(len(D)), list(D.values()), align='center')\n",
    "plt.xticks(range(len(D)), list(D.keys()))\n",
    "# # for python 2.x:\n",
    "# plt.bar(range(len(D)), D.values(), align='center')  # python 2.x\n",
    "# plt.xticks(range(len(D)), D.keys())  # in python 2.x\n",
    "\n",
    "plt.show()"
   ]
  },
  {
   "cell_type": "code",
   "execution_count": null,
   "metadata": {},
   "outputs": [],
   "source": []
  }
 ],
 "metadata": {
  "kernelspec": {
   "display_name": "Python 3",
   "language": "python",
   "name": "python3"
  },
  "language_info": {
   "codemirror_mode": {
    "name": "ipython",
    "version": 3
   },
   "file_extension": ".py",
   "mimetype": "text/x-python",
   "name": "python",
   "nbconvert_exporter": "python",
   "pygments_lexer": "ipython3",
   "version": "3.6.5"
  }
 },
 "nbformat": 4,
 "nbformat_minor": 2
}
