{
 "cells": [
  {
   "cell_type": "code",
   "execution_count": null,
   "metadata": {},
   "outputs": [],
   "source": [
    "# install required modules / dependencies @ command line first\n",
    "\n",
    "# pip install Census\n",
    "# pip install us\n",
    "\n",
    "# acquire Census API Key\n",
    "\n",
    "# https://api.census.gov/data/key_signup.html\n",
    "\n",
    "# import modoles as necessary\n",
    "\n",
    "from census import Census\n",
    "import pandas as pd\n",
    "from us import states\n",
    "\n",
    "# access census data api\n",
    "\n",
    "apikey = '070d9ec1740f58b5662d96ff3bfd4417427e8c3d'  # NOTE:  OBTAIN YOUR OWN KEY, DO NOT USE THIS KEY\n",
    "c      = Census(apikey)\n",
    "\n",
    "# import 2016 population data for NYS census tracts into data frame\n",
    "\n",
    "# census total population variable code = B01003_001E\n",
    "\n",
    "df = pd.DataFrame(c.acs5.state_county_tract('B01003_001E', states.NY.fips, '*', '*'))\n",
    "\n",
    "# dataframe variable = new dataframe(access.censusdatatype.geography(census variable, state, \n",
    "#                                                                    all counties, all tracts))\n",
    "\n",
    "df.head(10)\n",
    "\n",
    "# total pop / county / state / census tract"
   ]
  }
 ],
 "metadata": {
  "kernelspec": {
   "display_name": "Python 3",
   "language": "python",
   "name": "python3"
  },
  "language_info": {
   "codemirror_mode": {
    "name": "ipython",
    "version": 3
   },
   "file_extension": ".py",
   "mimetype": "text/x-python",
   "name": "python",
   "nbconvert_exporter": "python",
   "pygments_lexer": "ipython3",
   "version": "3.6.5"
  }
 },
 "nbformat": 4,
 "nbformat_minor": 2
}
